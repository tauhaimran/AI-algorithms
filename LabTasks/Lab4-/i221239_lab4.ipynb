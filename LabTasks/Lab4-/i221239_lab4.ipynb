{
  "cells": [
    {
      "cell_type": "markdown",
      "source": [
        "# Tauha 22i1239 cs-g lab 4 AI"
      ],
      "metadata": {
        "id": "fR2mSJp4Wd7J"
      }
    },
    {
      "cell_type": "markdown",
      "metadata": {
        "id": "Gnpg98O-DXIz"
      },
      "source": [
        "# **UCS**\n",
        "## **Task 1 : Dynamic Network Routing**"
      ]
    },
    {
      "cell_type": "markdown",
      "metadata": {
        "id": "eVPqt9_sDXI2"
      },
      "source": [
        "In a dynamic computer network, data packets need to be routed from a source server to a destination server. The network's links are affected not only by typical factors such as bandwidth and latency but also by temporary maintenance activities, which can alter transmission costs temporarily. Your goal is to determine the most cost-efficient route for data packets considering these dynamic conditions.\n",
        "\n",
        "### **Problem Setup:**\n",
        "The network can be modeled as a graph where:\n",
        "\n",
        "- Nodes represent routers in the network.\n",
        "- Edges between nodes represent network links, each associated with a transmission cost that may vary due to bandwidth availability, latency, congestion, and maintenance status.\n",
        "- Due to some maintance the on runtime random cost from 0-3 will be added to the routers with active maintance status\n",
        "\n",
        "\n",
        "\n",
        "| Router 1 | Router 2 | Transmission Cost | Maintenance Status | Example cost added |\n",
        "|----------|----------|-------------------|--------------------| ------------------ |\n",
        "| A        | B        | 6                 | Active             | 2                  |\n",
        "| A        | C        | 3                 | Inactive           | No maintance cost  |\n",
        "| B        | D        | 5                 | Active             | 2                  |\n",
        "| C        | D        | 2                 | Inactive           | No maintance cost  |\n",
        "| C        | E        | 8                 | Active             | 0                  |\n",
        "| D        | F        | 7                 | Inactive           | No maintance cost  |\n",
        "| E        | F        | 4                 | Active             | 1                  |\n",
        "\n",
        "### **Task:**\n",
        "- **Objective:** Find the least costly path for data packets to travel from Router A (source) to Router F (destination), factoring in maintenance statuses which could affect transmission costs.\n",
        "- **Algorithm:** Use Uniform Cost Search (UCS) to explore paths considering the dynamic costs.\n",
        "\n",
        "### **Expected Output:**\n",
        "\n",
        "Path : A → C → D → F (cost: 3 + 2 + 7 = 12)\n"
      ]
    },
    {
      "cell_type": "code",
      "execution_count": 14,
      "metadata": {
        "id": "1RWf7xBUDXI3",
        "outputId": "48d678ec-5b6e-4bbd-c698-d2a26755fe8e",
        "colab": {
          "base_uri": "https://localhost:8080/"
        }
      },
      "outputs": [
        {
          "output_type": "stream",
          "name": "stdout",
          "text": [
            "Minimum cost: 12\n",
            "Route: A → C → D → F\n"
          ]
        }
      ],
      "source": [
        "import heapq\n",
        "import math\n",
        "import random\n",
        "\n",
        "def uniform_cost_search(graph, start, goal):\n",
        "\n",
        "  q = [(0, start, [])]\n",
        "  visited = set()\n",
        "\n",
        "  while q:\n",
        "    (cost, node, route) = heapq.heappop(q)\n",
        "    if node not in visited:\n",
        "      visited.add(node)\n",
        "      if node == goal:\n",
        "        return cost, route + [node]\n",
        "      for (neighbor, neighbor_cost, maintenance_status) in graph[node]:\n",
        "        if neighbor not in visited:\n",
        "          if maintenance_status == \"yes\":\n",
        "            new_cost = cost + neighbor_cost + random.randint(0, 3)\n",
        "          else:\n",
        "            new_cost = cost + neighbor_cost\n",
        "          # The following line was redundant and causing the issue\n",
        "          # new_cost = cost + neighbor_cost\n",
        "          new_route = route + [node]\n",
        "          heapq.heappush(q, (new_cost, neighbor, new_route))\n",
        "  # ------------\n",
        "  return (math.inf, []) # if no path is found\n",
        "\n",
        "\n",
        "network_graph = {\n",
        "    'A': [('B', 6,\"yes\"), ('C', 3,\"no\")],\n",
        "    'B': [('D', 5,\"yes\")],\n",
        "    'C': [('D', 2,\"no\"), ('E', 8,\"yes\")],\n",
        "    'D': [('F', 7,\"no\")],\n",
        "    'E': [('F', 4,\"yes\")]\n",
        "}\n",
        "\n",
        "\n",
        "# start and goal nodes\n",
        "start_router = 'A'\n",
        "destination_router = 'F'\n",
        "\n",
        "#Call the uniform cost search function and print the results\n",
        "min_cost, route = uniform_cost_search(network_graph, start_router, destination_router)\n",
        "print(\"Minimum cost:\", min_cost)\n",
        "print(\"Route:\", \" → \".join(route))"
      ]
    },
    {
      "cell_type": "markdown",
      "metadata": {
        "id": "DpN2sC74DXI5"
      },
      "source": [
        "# **Greedy Search Algorithem ( Best first search )**\n",
        "## **Task 2 : Flight Optimization**"
      ]
    },
    {
      "cell_type": "markdown",
      "metadata": {
        "id": "INgtuUYfDXI5"
      },
      "source": [
        "Find the most direct flight that:\n",
        "\n",
        "\n",
        "### **Input and Output Details:**\n",
        "#### **Input:**\n",
        "\n",
        "- Flights Dictionary:\n",
        "    - A mapping where each key is a departure city and its value is a dictionary (or mapping) of neighboring cities along with the cost (distance) of traveling between them. Additionally, each flight option also includes a local heuristic estimate (which, in a typical scenario, might be computed rather than pre-supplied). In our task, the heuristic will be computed using Euclidean distance.\n",
        "\n",
        "\n",
        "#### **Output:**\n",
        "- shortest path:\n",
        "    - shortest path based on the heuristic short distance.\n",
        "\n",
        "\n",
        "### **Heuristic Function:**\n",
        "The heuristic function takes the current city and goal city, computes the Euclidean distance to the goal city using the provided coordinates.\n",
        "\n",
        "### **Algorithm Description:**\n",
        "- **Initialize:** Start with the origin city, with zero cost and no cities visited.\n",
        "- **Priority Queue:** Use a priority queue to manage the exploration of city sequences based on their heuristic cost.\n",
        "- **Expand Nodes:** At each step, expand the node (city) with the lowest heuristic cost. Generate new nodes by adding connected cities that have not yet been visited .\n",
        "- **Cycle Check and Completion:** if the goal is visited or the priority queue is empty.\n"
      ]
    },
    {
      "cell_type": "code",
      "execution_count": 28,
      "metadata": {
        "id": "vqIwgVj7DXI5",
        "colab": {
          "base_uri": "https://localhost:8080/"
        },
        "outputId": "b2d42c37-1121-487a-851a-496ed5e7d44c"
      },
      "outputs": [
        {
          "output_type": "stream",
          "name": "stdout",
          "text": [
            "cost: 217.1438568165808\n",
            "path: New York -> Philadelphia -> Washington D.C.\n"
          ]
        }
      ],
      "source": [
        "import heapq\n",
        "\n",
        "\n",
        "\n",
        "def best_first_search_flights(city_flights_cost,city_coords,start_city,goal_city):\n",
        "    \"\"\"\n",
        "    Implement Best-First Greedy Search to find the cheapest flight itinerary.\n",
        "    Initializes and uses a priority queue to manage states based on cost and heuristic estimates.\n",
        "    \"\"\"\n",
        "    # Initialize the priority queue with the starting city and zero cost\n",
        "    priority_queue = [(0, start_city, [])]\n",
        "    visited = set()\n",
        "    while priority_queue:\n",
        "\n",
        "      cost, current_city, path = heapq.heappop(priority_queue)\n",
        "\n",
        "      if current_city == goal_city:\n",
        "          return cost, path + [current_city]\n",
        "\n",
        "      if current_city not in visited:\n",
        "        visited.add(current_city)\n",
        "\n",
        "      for neighbor, neighbor_cost in city_flights_cost[current_city].items():\n",
        "        if neighbor not in visited:\n",
        "          heuristic_cost = heuristic(neighbor,goal_city,city_coords)\n",
        "          new_cost = cost + neighbor_cost + heuristic_cost\n",
        "          new_path = path + [current_city]\n",
        "          heapq.heappush(priority_queue, (new_cost, neighbor, new_path))\n",
        "\n",
        "    return None  # Return None if no valid path is found\n",
        "\n",
        "def heuristic(current_city,goal_city,city_coords):\n",
        "    #eucladian distance...\n",
        "    current_x, current_y = city_coords[current_city]\n",
        "    goal_x, goal_y = city_coords[goal_city]\n",
        "    return ((current_x - goal_x) ** 2 + (current_y - goal_y) ** 2) ** 0.5\n",
        "\n",
        "\n",
        "\n",
        "\n",
        "city_flights = {\n",
        "    'New York': {'Philadelphia': 80, 'Boston': 215},\n",
        "    'Philadelphia': {'New York': 80, 'Washington D.C.': 135},\n",
        "    'Boston': {'New York': 215, 'Providence': 50},\n",
        "    'Washington D.C.': {'Philadelphia': 135, 'Richmond': 95},\n",
        "    'Providence': {'Boston': 50}\n",
        "}\n",
        "\n",
        "city_coords = {\n",
        "    'New York': (40.7128, -74.0060),\n",
        "    'Philadelphia': (39.9526, -75.1652),\n",
        "    'Boston': (42.3601, -71.0589),\n",
        "    'Washington D.C.': (38.9072, -77.0369),\n",
        "    'Providence': (41.824, -71.4128),\n",
        "    'Richmond': (37.5407, -77.4360)\n",
        "}\n",
        "\n",
        "\n",
        "start_city = \"New York\"\n",
        "goal_city=\"Washington D.C.\"\n",
        "\n",
        "\n",
        "# call to the function, to be implemented after completing all functions\n",
        "x=best_first_search_flights(city_flights, city_coords, start_city,goal_city)\n",
        "#print(x)\n",
        "print('cost:',x[0])\n",
        "print('path:',' -> '.join(x[1]))\n",
        "#print(best_first_search_flights(city_flights, city_coords, start_city,goal_city))\n",
        "#print(city_flights)\n",
        "#print(city_coords)\n",
        "#print(start_city)\n"
      ]
    },
    {
      "cell_type": "code",
      "execution_count": null,
      "metadata": {
        "id": "b1Zu-vtDDXI6"
      },
      "outputs": [],
      "source": []
    }
  ],
  "metadata": {
    "language_info": {
      "name": "python"
    },
    "colab": {
      "provenance": []
    },
    "kernelspec": {
      "name": "python3",
      "display_name": "Python 3"
    }
  },
  "nbformat": 4,
  "nbformat_minor": 0
}