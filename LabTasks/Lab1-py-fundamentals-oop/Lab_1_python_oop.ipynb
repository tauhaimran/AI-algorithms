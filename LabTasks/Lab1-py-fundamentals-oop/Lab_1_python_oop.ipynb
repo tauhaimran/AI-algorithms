{
 "cells": [
  {
   "cell_type": "markdown",
   "metadata": {},
   "source": [
    "# **Object Oriented Programming**"
   ]
  },
  {
   "cell_type": "markdown",
   "metadata": {},
   "source": [
    "OOP is a programming paradigm based on the concept of \"objects,\" which can contain data (attributes) and methods (functions) to operate on the data.\n",
    "\n",
    "Class: A blueprint for creating objects. It defines attributes and methods"
   ]
  },
  {
   "cell_type": "code",
   "execution_count": 1,
   "metadata": {},
   "outputs": [],
   "source": [
    "class Person:\n",
    "    def __init__(self, name): #The __init__ function in Object-Oriented Programming (OOP) is a special method in Python, commonly known as the constructor. It is automatically called when an object of a class is created.\n",
    "        self.name = name\n",
    "# self is a reference to the current instance of the class. It is used to access variables and methods that belong to the object itself. While naming it self is a convention, you can technically name it anything (though sticking to the convention is highly recommended)."
   ]
  },
  {
   "cell_type": "markdown",
   "metadata": {},
   "source": [
    "\n",
    "Object: An instance of a class."
   ]
  },
  {
   "cell_type": "code",
   "execution_count": 3,
   "metadata": {},
   "outputs": [
    {
     "name": "stdout",
     "output_type": "stream",
     "text": [
      "John\n"
     ]
    }
   ],
   "source": [
    "p = Person(\"John\")  # p is an object of class Person\n",
    "print(p.name)"
   ]
  },
  {
   "cell_type": "markdown",
   "metadata": {},
   "source": [
    "## Object Methods\n",
    "methods are the funcitons that belong to the object "
   ]
  },
  {
   "cell_type": "code",
   "execution_count": 6,
   "metadata": {},
   "outputs": [
    {
     "name": "stdout",
     "output_type": "stream",
     "text": [
      "Name :  ali   Age :  23\n",
      "Name :  ahmad   Age :  24\n"
     ]
    }
   ],
   "source": [
    "class Person:\n",
    "    def __init__(self,name,age):\n",
    "        self.name=name\n",
    "        self.age=age\n",
    "    def show_data(self):\n",
    "        print(\"Name : \",self.name,\"  Age : \",self.age)\n",
    "    \n",
    "p=Person(\"ali\",23)\n",
    "p.show_data()\n",
    "# properties of the object can be modified\n",
    "p.name=\"ahmad\"\n",
    "p.age=24\n",
    "p.show_data()"
   ]
  },
  {
   "cell_type": "markdown",
   "metadata": {},
   "source": [
    "## Inheritance\n",
    "\n",
    "Inheritance is a mechanism where one class (child) can inherit properties and methods from another class (parent)."
   ]
  },
  {
   "cell_type": "code",
   "execution_count": 8,
   "metadata": {},
   "outputs": [
    {
     "name": "stdout",
     "output_type": "stream",
     "text": [
      "Name :  ali  Age: 23  Designation: Lecturer\n"
     ]
    }
   ],
   "source": [
    "class Person:\n",
    "    def __init__(self,name,age):\n",
    "        self.name=name\n",
    "        self.age=age\n",
    "    def show_data(self):\n",
    "        print(\"Name : \",self.name,\"  Age : \",self.age)\n",
    "\n",
    "class Teacher(Person):\n",
    "    def __init__(self,name,age,designation):\n",
    "        self.designation=designation\n",
    "        super().__init__(name,age)\n",
    "    \n",
    "    def show_data(self):\n",
    "        print(\"Name : \",self.name,\" Age:\",self.age,\" Designation:\",self.designation)\n",
    "\n",
    "t=Teacher(\"ali\",23,\"Lecturer\")\n",
    "t.show_data()\n",
    "\n"
   ]
  },
  {
   "cell_type": "markdown",
   "metadata": {},
   "source": [
    "## Polymorphism\n",
    "Polymorphism in Python allows methods in different classes to have the same name but behave differently based on the object calling them. It makes code more flexible by enabling a unified interface for different types of objects.\n",
    "\n",
    "as the len() function provide the len of string , tuple , list etc. name is same but perfom on differnt type of data "
   ]
  },
  {
   "cell_type": "code",
   "execution_count": 9,
   "metadata": {},
   "outputs": [
    {
     "name": "stdout",
     "output_type": "stream",
     "text": [
      "Name :  ali  Age: 23  Designation: Lecturer\n"
     ]
    }
   ],
   "source": [
    "# Method Overrrding\n",
    "\n",
    "class Person:\n",
    "    def __init__(self,name,age):\n",
    "        self.name=name\n",
    "        self.age=age\n",
    "    def show_data(self):\n",
    "        print(\"Name : \",self.name,\"  Age : \",self.age)\n",
    "\n",
    "class Teacher(Person):\n",
    "    def __init__(self,name,age,designation):\n",
    "        self.designation=designation\n",
    "        super().__init__(name,age)\n",
    "    \n",
    "    def show_data(self): # this function is overrided in the child class Teacher.\n",
    "        print(\"Name : \",self.name,\" Age:\",self.age,\" Designation:\",self.designation)\n",
    "\n",
    "t=Teacher(\"ali\",23,\"Lecturer\")\n",
    "t.show_data()\n",
    "\n"
   ]
  },
  {
   "cell_type": "code",
   "execution_count": 11,
   "metadata": {},
   "outputs": [],
   "source": [
    "# Method Overloading\n",
    "# Python doesn’t support traditional method overloading but we can handle it using default keyword values etc."
   ]
  },
  {
   "cell_type": "code",
   "execution_count": 12,
   "metadata": {},
   "outputs": [
    {
     "name": "stdout",
     "output_type": "stream",
     "text": [
      "3.1622776601683795\n"
     ]
    }
   ],
   "source": [
    "import math\n",
    "sqrt=math.sqrt(10)\n",
    "print(sqrt)"
   ]
  },
  {
   "cell_type": "code",
   "execution_count": null,
   "metadata": {},
   "outputs": [],
   "source": []
  }
 ],
 "metadata": {
  "kernelspec": {
   "display_name": "base",
   "language": "python",
   "name": "python3"
  },
  "language_info": {
   "codemirror_mode": {
    "name": "ipython",
    "version": 3
   },
   "file_extension": ".py",
   "mimetype": "text/x-python",
   "name": "python",
   "nbconvert_exporter": "python",
   "pygments_lexer": "ipython3",
   "version": "3.11.7"
  }
 },
 "nbformat": 4,
 "nbformat_minor": 2
}
