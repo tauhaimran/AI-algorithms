{
 "cells": [
  {
   "cell_type": "markdown",
   "id": "85117614",
   "metadata": {},
   "source": [
    "# Tauha Imran 22i1239 cs-g\n",
    "## lab 1"
   ]
  },
  {
   "cell_type": "markdown",
   "id": "dd14c246",
   "metadata": {},
   "source": [
    "### Task#1"
   ]
  },
  {
   "cell_type": "code",
   "execution_count": 2,
   "id": "dcd67fdd",
   "metadata": {},
   "outputs": [
    {
     "name": "stdout",
     "output_type": "stream",
     "text": [
      "Enter elements separated by space: 1 1 1 2 2 3 3 4 5 4\n",
      "Output\n",
      "1  :  3\n",
      "4  :  2\n",
      "3  :  2\n",
      "5  :  1\n",
      "2  :  2\n"
     ]
    }
   ],
   "source": [
    "# >> task#1\n",
    "\n",
    "def count_occurences(user_input):\n",
    "    \n",
    "    set_input = set(user_input)\n",
    "    #print(\"Set:\", set_input)\n",
    "\n",
    "    print(\"Output\")\n",
    "    for i in set_input:\n",
    "        print(i , \" : \" ,user_input.count(i))    \n",
    "\n",
    "#driver code\n",
    "user_input = input(\"Enter elements separated by space: \").split()\n",
    "count_occurences(user_input)\n",
    "#print(\"List:\", user_input)\n"
   ]
  },
  {
   "cell_type": "markdown",
   "id": "c961dfe1",
   "metadata": {},
   "source": [
    "### Task#2"
   ]
  },
  {
   "cell_type": "code",
   "execution_count": 12,
   "id": "d9292e5c",
   "metadata": {},
   "outputs": [
    {
     "name": "stdout",
     "output_type": "stream",
     "text": [
      "-------------\n",
      "Enter Your data\n",
      "Enter Name : Tauha\n",
      "Enter Age : 21\n",
      "Enter Courses separated by space: OOP AI DevOPs\n",
      "\n",
      "-----------\n",
      "\n",
      "Enter Friends data\n",
      "Enter Name : Ali\n",
      "Enter Age : 20\n",
      "Enter Courses separated by space: OOP AI Web\n",
      "------------\n",
      "\n",
      "Subjects you are Studying But your Friend Is not\n",
      "['DevOPs']\n",
      "\n",
      "\n",
      "\n",
      "You are older than your friend\n"
     ]
    }
   ],
   "source": [
    "# >> task#2\n",
    "class Person:\n",
    "    def __init__(self,name,age,subjects):\n",
    "        self.name=name\n",
    "        self.age=age\n",
    "        self.subjects=subjects\n",
    "    def show_data(self):\n",
    "        print(\"Name : \",self.name,\"  Age : \",self.age)\n",
    "\n",
    "    def get_data(self):\n",
    "        self.name=input(\"Enter Name : \")\n",
    "        self.age=int(input(\"Enter Age : \"))\n",
    "        self.subjects=input(\"Enter Courses separated by space: \").split()\n",
    "\n",
    "        \n",
    "def compare_details(Me , Fr):\n",
    "    print('Subjects you are Studying But your Friend Is not')\n",
    "    X = list(set(Me.subjects) - set(Fr.subjects))\n",
    "    print(X)\n",
    "    print('\\n\\n')\n",
    "    if( Me.age >  Fr.age):\n",
    "        print (\"You are older than your friend\")\n",
    "    elif( Me.age ==  Fr.age):\n",
    "        print (\"You are the same age as your friend\")\n",
    "    elif( Me.age <  Fr.age):\n",
    "        print (\"You are younger than your friend\")\n",
    "    \n",
    "        \n",
    "#driver code\n",
    "Me = Person('x','y',['z','z'])\n",
    "Friend = Person('x','y',['z','z'])\n",
    "print(\"-------------\")\n",
    "print(\"Enter Your data\")\n",
    "Me.get_data()\n",
    "print(\"\\n-----------\\n\")\n",
    "print(\"Enter Friends data\")\n",
    "Friend.get_data()\n",
    "print(\"------------\\n\")\n",
    "      \n",
    "\n",
    "compare_details(Me,Friend)\n",
    "\n",
    "\n",
    "#Me.show_data()\n",
    "#print(\"Subjects : \",Me.subjects)\n",
    "#Friend.show_data()"
   ]
  },
  {
   "cell_type": "markdown",
   "id": "3c882249",
   "metadata": {},
   "source": [
    "### Task#3"
   ]
  },
  {
   "cell_type": "code",
   "execution_count": 24,
   "id": "3680a9fe",
   "metadata": {},
   "outputs": [
    {
     "name": "stdout",
     "output_type": "stream",
     "text": [
      "Enter integers separated by space: 1 2 3 4\n",
      "1  :  Odd\n",
      "4  :  Even\n",
      "9  :  Odd\n",
      "16  :  Even\n"
     ]
    }
   ],
   "source": [
    "# >> task#3\n",
    "\n",
    "def even_odd(X):\n",
    "    for i in range(len(X)):\n",
    "        Y = int(X[i])\n",
    "        sqr = Y**2\n",
    "        if(sqr%2 == 0):\n",
    "            print(sqr , ' :  Even' )\n",
    "        else:\n",
    "            print(sqr , ' :  Odd' )\n",
    "\n",
    "#driver code\n",
    "user_input = input(\"Enter integers separated by space: \").split()\n",
    "even_odd(user_input)"
   ]
  },
  {
   "cell_type": "markdown",
   "id": "80817ff2",
   "metadata": {},
   "source": [
    "### Task#4"
   ]
  },
  {
   "cell_type": "code",
   "execution_count": 28,
   "id": "37fd6c2f",
   "metadata": {},
   "outputs": [
    {
     "name": "stdout",
     "output_type": "stream",
     "text": [
      "length : 5\n",
      "width : 3\n",
      "----------------\n",
      "\n",
      "lenght :  5\n",
      "width :  3\n",
      "Area :  15\n",
      "Diagonal :  5.830951894845301\n"
     ]
    }
   ],
   "source": [
    "# >> task#3\n",
    "class rectangle:\n",
    "    def __init__(self,length,width):\n",
    "        self.length=length\n",
    "        self.width=width\n",
    "    def area(self):\n",
    "        return self.length*self.width\n",
    "    def diagonal(self):\n",
    "        return (self.length**2+self.width**2)**0.5\n",
    "    def perimeter(self):\n",
    "        return 2*(self.length+self.width)\n",
    "    def get_data(self):\n",
    "        self.length=int(input(\"length : \"))\n",
    "        self.width=int(input(\"width : \"))\n",
    "\n",
    "#driver code\n",
    "MyRec = rectangle(0,0)\n",
    "MyRec.get_data()\n",
    "\n",
    "print('----------------\\n')\n",
    "print ('lenght : ' ,  MyRec.length)\n",
    "print ('width : ' ,  MyRec.width)\n",
    "print ('Area : ' , MyRec.area())\n",
    "print ('Diagonal : ' ,  MyRec.diagonal())\n"
   ]
  },
  {
   "cell_type": "markdown",
   "id": "242753fb",
   "metadata": {},
   "source": [
    "### Task#5"
   ]
  },
  {
   "cell_type": "code",
   "execution_count": 29,
   "id": "2f2e869f",
   "metadata": {},
   "outputs": [
    {
     "name": "stdout",
     "output_type": "stream",
     "text": [
      "Make :  Toyota \n",
      " Model :  Corolla \n",
      "  Year :  2020\n",
      "Number of doors :  4\n",
      "\n",
      "\n",
      "Make :  Trek \n",
      " Model :  Marlin 7 \n",
      "  Year :  2022\n",
      "Type :  Mountain\n"
     ]
    }
   ],
   "source": [
    "# >> task#5\n",
    "\n",
    "class Vehicle:\n",
    "    def __init__(self,make,model,year):\n",
    "        self.make=make\n",
    "        self.model=model\n",
    "        self.year=year\n",
    "    def display_info(self):\n",
    "        print(\"Make : \",self.make,\"\\n Model : \",self.model,\"\\n  Year : \",self.year)\n",
    "\n",
    "class Car(Vehicle):\n",
    "    def __init__(self,make,model,year,num_doors):\n",
    "        super().__init__(make,model,year)\n",
    "        self.num_doors=num_doors\n",
    "    def display_info(self):\n",
    "        super().display_info()\n",
    "        print(\"Number of doors : \",self.num_doors)\n",
    "\n",
    "class Bike(Vehicle):\n",
    "    def __init__(self,make,model,year,type):\n",
    "        super().__init__(make,model,year)\n",
    "        self.type=type\n",
    "    def display_info(self):\n",
    "        super().display_info()\n",
    "        print(\"Type : \",self.type)\n",
    "        \n",
    "#driver code\n",
    "CAR = Car('Toyota','Corolla','2020',4)\n",
    "BIKE = Bike('Trek','Marlin 7','2022','Mountain')\n",
    "CAR.display_info()\n",
    "print('\\n')\n",
    "BIKE.display_info()"
   ]
  },
  {
   "cell_type": "code",
   "execution_count": null,
   "id": "9d6aee86",
   "metadata": {},
   "outputs": [],
   "source": []
  }
 ],
 "metadata": {
  "kernelspec": {
   "display_name": "Python 3 (ipykernel)",
   "language": "python",
   "name": "python3"
  },
  "language_info": {
   "codemirror_mode": {
    "name": "ipython",
    "version": 3
   },
   "file_extension": ".py",
   "mimetype": "text/x-python",
   "name": "python",
   "nbconvert_exporter": "python",
   "pygments_lexer": "ipython3",
   "version": "3.9.13"
  }
 },
 "nbformat": 4,
 "nbformat_minor": 5
}
