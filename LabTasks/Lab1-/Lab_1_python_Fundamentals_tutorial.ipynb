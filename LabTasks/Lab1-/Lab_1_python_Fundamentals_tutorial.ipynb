{
 "cells": [
  {
   "cell_type": "markdown",
   "metadata": {},
   "source": [
    "# **Python Learning**\n",
    "## **Introduction to Python**\n",
    "\n",
    "\n",
    "Python is a high-level, interpreted language created by Guido van Rossum in 1991. \n",
    "It emphasizes code readability and allows for quick and efficient system integration.\n",
    "\n",
    "### Key Features\n",
    "\n",
    "- **Easy to Learn** : Simple syntax\n",
    "- **Cross-Platform** : Works on Windows, macOS, Linux\n",
    "- **Extensive Libraries** : Covers most tasks\n",
    "- **Dynamic Typing** : No need for explicit variable types\n",
    "- **Versatile** : Supports multiple programming paradigms\n",
    "- **Open Source** : Free and modifiable\n",
    "\n",
    "\n",
    "### Why Learn Python?\n",
    "\n",
    "**For Beginners**:\n",
    "- Easy syntax and libraries\n",
    "- Error-friendly\n",
    "- Project-based learning\n",
    "\n",
    "**For Experts**:\n",
    "- Easy to switch from other languages\n",
    "- High demand in tech (AI, ML, Data Science)\n",
    "- Bridges advanced features like AI into existing projects\n",
    "\n",
    "### Example: Hello World\n",
    "\n"
   ]
  },
  {
   "cell_type": "code",
   "execution_count": 1,
   "metadata": {},
   "outputs": [
    {
     "name": "stdout",
     "output_type": "stream",
     "text": [
      "2.0\n",
      "Hello World\n"
     ]
    }
   ],
   "source": [
    "import math #module in python \n",
    "print(math.sqrt(4))\n",
    "print(\"Hello World\")"
   ]
  },
  {
   "cell_type": "markdown",
   "metadata": {},
   "source": [
    "### Comments in Python\n",
    "##### Single-line comment :"
   ]
  },
  {
   "cell_type": "code",
   "execution_count": 3,
   "metadata": {},
   "outputs": [],
   "source": [
    "# this is single line comment "
   ]
  },
  {
   "cell_type": "markdown",
   "metadata": {},
   "source": [
    "##### Multi-line comment :"
   ]
  },
  {
   "cell_type": "code",
   "execution_count": 16,
   "metadata": {},
   "outputs": [
    {
     "data": {
      "text/plain": [
       "'\\nThis is multiline comment maainly use to add document to the code\\n'"
      ]
     },
     "execution_count": 16,
     "metadata": {},
     "output_type": "execute_result"
    }
   ],
   "source": [
    "# the multi line comment is a string literal if it is placed any where in the code it will be ignored although if it is a last line of a cell of notebook in jupyter the it will be just printed because note book by default cout it as string a print it \n",
    "\"\"\"\n",
    "This is multiline comment maainly use to add document to the code\n",
    "\"\"\""
   ]
  },
  {
   "cell_type": "markdown",
   "metadata": {},
   "source": [
    "\n",
    "### Indentation\n",
    "In Python, indentation using spaces or tabs defines code blocks, indicating which statements belong to the same block."
   ]
  },
  {
   "cell_type": "code",
   "execution_count": 1,
   "metadata": {},
   "outputs": [
    {
     "name": "stdout",
     "output_type": "stream",
     "text": [
      "hello\n",
      "world\n",
      "This is true!\n",
      "Indented block\n",
      "hello\n",
      "world\n",
      "Outside the block\n"
     ]
    }
   ],
   "source": [
    "#in every block the spaces for each statement must be same other wise it will give error of indent it is hard for interpreter to define either it belongs to this block or not.\n",
    "if 5<10:\n",
    " print(\"hello\")\n",
    " print(\"world\")\n",
    "if 10 > 5:\n",
    "    print(\"This is true!\")  # Inside if block\n",
    "    print(\"Indented block\")\n",
    "if 5<10:\n",
    " print(\"hello\")\n",
    " print(\"world\")\n",
    "print(\"Outside the block\")  # No indentation"
   ]
  },
  {
   "cell_type": "markdown",
   "metadata": {},
   "source": [
    "## **Input and Output In Python**"
   ]
  },
  {
   "cell_type": "markdown",
   "metadata": {},
   "source": [
    "### Input"
   ]
  },
  {
   "cell_type": "code",
   "execution_count": 10,
   "metadata": {},
   "outputs": [
    {
     "name": "stdout",
     "output_type": "stream",
     "text": [
      "Hello, ismail!\n",
      "Hello ,  23\n"
     ]
    }
   ],
   "source": [
    "# Basic Input:\n",
    "# The simplest use of the input() function is to prompt the user for a response, which is returned as a string.\n",
    "\n",
    "name = input(\"Enter your name: \")\n",
    "print(\"Hello, \" + name + \"!\")\n",
    "\n",
    "\n",
    "#change type of input here to int\n",
    "name=int(input(\"enter age : \"))\n",
    "print(\"Hello , \",name)\n"
   ]
  },
  {
   "cell_type": "markdown",
   "metadata": {},
   "source": [
    "#### Output"
   ]
  },
  {
   "cell_type": "code",
   "execution_count": 2,
   "metadata": {},
   "outputs": [
    {
     "name": "stdout",
     "output_type": "stream",
     "text": [
      "hello world\n"
     ]
    }
   ],
   "source": [
    "print(\"hello world\")"
   ]
  },
  {
   "cell_type": "code",
   "execution_count": 11,
   "metadata": {},
   "outputs": [
    {
     "name": "stdout",
     "output_type": "stream",
     "text": [
      "Name : 23\n",
      "Name :ali\n",
      "Name :ali\n",
      "<class 'str'>\n"
     ]
    }
   ],
   "source": [
    "name = \"ali\"\n",
    "print(\"Name :\", 23) # show variable as seprate after the string literal \n",
    "print(\"Name :\"+name) # concatinate the variable with the string literal \n",
    "print(f\"Name :{name}\") # formatted string output\n",
    "print(type(name)) # print the type of the variable"
   ]
  },
  {
   "cell_type": "markdown",
   "metadata": {},
   "source": [
    "## **Variables**\n",
    "- In python, variables are used to store data that can be referenced and manipulated during program execution\n",
    "- Python variables do not require explicit declaration of type\n",
    "\n",
    "### Rules for Naming Variables in Python:\n",
    "- Can contain letters, digits, and underscores (`_`).\n",
    "- Cannot start with a digit.\n",
    "- Case-sensitive (e.g., `myVar` and `myvar` are different).\n",
    "- Avoid using Python keywords (e.g., `if`, `else`, `for`).\n"
   ]
  },
  {
   "cell_type": "code",
   "execution_count": 14,
   "metadata": {},
   "outputs": [
    {
     "name": "stdout",
     "output_type": "stream",
     "text": [
      "23\n",
      "23\n",
      "24\n",
      "xyz\n",
      "True\n"
     ]
    }
   ],
   "source": [
    "# examples of valid variable names \n",
    "height=23\n",
    "_height=23\n",
    "height_2024=24\n",
    "name=\"xyz\"\n",
    "is_tall=True\n",
    "\n",
    "print(height)\n",
    "print(_height)\n",
    "print(height_2024)\n",
    "print(name)\n",
    "print(is_tall)"
   ]
  },
  {
   "cell_type": "markdown",
   "metadata": {},
   "source": [
    "### Dynamic Typing : \n",
    "Python variables are dynamically typed, meaning the same variable can hold different types of values during execution.\n"
   ]
  },
  {
   "cell_type": "code",
   "execution_count": 15,
   "metadata": {},
   "outputs": [
    {
     "name": "stdout",
     "output_type": "stream",
     "text": [
      "23\n",
      "hello\n"
     ]
    }
   ],
   "source": [
    "\n",
    "x=23\n",
    "print(x)\n",
    "x=\"hello\"\n",
    "print(x)"
   ]
  },
  {
   "cell_type": "markdown",
   "metadata": {},
   "source": [
    "### Multiple Assignments:\n",
    "Python allows multiple variables to be assigned values in a single line."
   ]
  },
  {
   "cell_type": "code",
   "execution_count": 17,
   "metadata": {},
   "outputs": [
    {
     "name": "stdout",
     "output_type": "stream",
     "text": [
      "1   2   3\n",
      "1   1   1\n"
     ]
    }
   ],
   "source": [
    "\n",
    "x,y,z=1,2,3\n",
    "print(x,\" \",y,\" \",z)\n",
    "\n",
    "\n",
    "x=y=z=1 # same value assignment to all \n",
    "print(x,\" \",y,\" \",z)"
   ]
  },
  {
   "cell_type": "markdown",
   "metadata": {},
   "source": [
    "### Casting \n",
    "Casting is the process of converting a variable from one data type to another. Python offers several built-in functions for casting, such as int(), float(), and str()."
   ]
  },
  {
   "cell_type": "code",
   "execution_count": 18,
   "metadata": {},
   "outputs": [
    {
     "name": "stdout",
     "output_type": "stream",
     "text": [
      "10\n"
     ]
    }
   ],
   "source": [
    "age=\"10\"\n",
    "print(int(age))"
   ]
  },
  {
   "cell_type": "markdown",
   "metadata": {},
   "source": [
    "### Scope of a Variable in Python\n",
    "#### Local Variables:\n",
    "\n",
    "- Defined inside a function.\n",
    "- Only accessible within that function.\n"
   ]
  },
  {
   "cell_type": "code",
   "execution_count": 19,
   "metadata": {},
   "outputs": [
    {
     "name": "stdout",
     "output_type": "stream",
     "text": [
      "xyz\n"
     ]
    }
   ],
   "source": [
    "def printName():\n",
    "    name=\"xyz\" # local variable\n",
    "    print(name)\n",
    "\n",
    "printName()"
   ]
  },
  {
   "cell_type": "markdown",
   "metadata": {},
   "source": [
    "### Global Variables:\n",
    "\n",
    "- Defined outside any function.\n",
    "- Accessible globally, including inside functions using the global keyword."
   ]
  },
  {
   "cell_type": "code",
   "execution_count": 20,
   "metadata": {},
   "outputs": [
    {
     "name": "stdout",
     "output_type": "stream",
     "text": [
      "ali\n",
      "ali\n"
     ]
    }
   ],
   "source": [
    "name=\"xyz\" # global variable\n",
    "def printName():\n",
    "    global name\n",
    "    name=\"ali\" \n",
    "    print(name)\n",
    "\n",
    "printName()\n",
    "print(name)"
   ]
  },
  {
   "cell_type": "markdown",
   "metadata": {},
   "source": [
    "## **Python Operators**\n",
    "Operators in general are used to perform operations on values and variables.\n",
    "\n",
    "### Arithmetic Operators in Python\n",
    "Python Arithmetic operators are used to perform basic mathematical operations like addition, subtraction, multiplication and division.\n",
    "\n",
    "- '+'   Addition\n",
    "- '-'  Subtraction\n",
    "- '*'   Multiplication\n",
    "- '/'   Division\n",
    "- '%'   Modulus\n"
   ]
  },
  {
   "cell_type": "code",
   "execution_count": 21,
   "metadata": {},
   "outputs": [
    {
     "name": "stdout",
     "output_type": "stream",
     "text": [
      "Addition: 19\n"
     ]
    }
   ],
   "source": [
    "# Variables\n",
    "a = 15\n",
    "b = 4\n",
    "\n",
    "# Addition\n",
    "print(\"Addition:\", a + b)"
   ]
  },
  {
   "cell_type": "markdown",
   "metadata": {},
   "source": [
    "### Comparison of Python Operators\n",
    "In Python Comparison of Relational operators compares the values. It either returns True or False according to the condition.\n",
    "\n",
    "[\">\", \"<\", \"==\", \"!=\", \">=\", \"<=\"]\n",
    "\n"
   ]
  },
  {
   "cell_type": "code",
   "execution_count": 22,
   "metadata": {},
   "outputs": [
    {
     "name": "stdout",
     "output_type": "stream",
     "text": [
      "False\n"
     ]
    }
   ],
   "source": [
    "print(5>10)"
   ]
  },
  {
   "cell_type": "markdown",
   "metadata": {},
   "source": [
    "### Logical Operators in Python\n",
    "Python Logical operators perform AND, OR and NOT operations. It is used to combine conditional statements."
   ]
  },
  {
   "cell_type": "code",
   "execution_count": 23,
   "metadata": {},
   "outputs": [
    {
     "name": "stdout",
     "output_type": "stream",
     "text": [
      "False\n"
     ]
    }
   ],
   "source": [
    "# and,or and not\n",
    "a = True\n",
    "b = False\n",
    "print(a and b)"
   ]
  },
  {
   "cell_type": "markdown",
   "metadata": {},
   "source": [
    "### Assignment Operators in Python\n",
    "Python Assignment operators are used to assign values to the variables. \n",
    "\n",
    "[\"=\", \"+=\", \"-=\", \"*=\"]"
   ]
  },
  {
   "cell_type": "code",
   "execution_count": 24,
   "metadata": {},
   "outputs": [
    {
     "name": "stdout",
     "output_type": "stream",
     "text": [
      "20\n"
     ]
    }
   ],
   "source": [
    "a=20\n",
    "print(a)"
   ]
  },
  {
   "cell_type": "markdown",
   "metadata": {},
   "source": [
    "## **Python Data Types**\n",
    "There are several data type in python int, float, string, tuple, sets, dictionary, arrays"
   ]
  },
  {
   "cell_type": "code",
   "execution_count": 28,
   "metadata": {},
   "outputs": [
    {
     "name": "stdout",
     "output_type": "stream",
     "text": [
      "<class 'int'>\n",
      "<class 'float'>\n",
      "10\n",
      "3.14\n"
     ]
    }
   ],
   "source": [
    "# Number data\n",
    "\n",
    "\n",
    "value=23\n",
    "print(type(value))\n",
    "\n",
    "value=2.3\n",
    "print(type(value))\n",
    "# Absolute Value (abs)\n",
    "print(abs(-10)) # Output: 10 (absolute value of -10)\n",
    "\n",
    "# Round (round)\n",
    "print(round(3.14159, 2))  # Output: 3.14 (rounds to 2 decimal places)"
   ]
  },
  {
   "cell_type": "code",
   "execution_count": 30,
   "metadata": {},
   "outputs": [
    {
     "name": "stdout",
     "output_type": "stream",
     "text": [
      "True\n",
      "False\n",
      "False\n"
     ]
    }
   ],
   "source": [
    "# Boolean:\n",
    "\n",
    "\n",
    "# Every data type with a null or empty value (such as None, 0, '', [], or {}) is considered False in a Boolean context, while any data type with a non-null or non-empty value is considered True.\n",
    "\n",
    "# boolean can be True or False\n",
    "\n",
    "isTall=True\n",
    "print(isTall)\n",
    "\n",
    "value=0\n",
    "print(bool(value))\n",
    "\n",
    "if not value:\n",
    "    print(\"False\")"
   ]
  },
  {
   "cell_type": "code",
   "execution_count": 47,
   "metadata": {},
   "outputs": [
    {
     "name": "stdout",
     "output_type": "stream",
     "text": [
      "hello\n",
      "helloe\n",
      "hel\n",
      "hl\n",
      "hello\n",
      "Hello world\n",
      "11\n",
      "HELLO WORLD\n",
      "hello world\n",
      "hello\n",
      "helloworld\n"
     ]
    }
   ],
   "source": [
    "# Python String\n",
    "\n",
    "a=\"hello\"\n",
    "print(a)\n",
    "\n",
    "#access a character in a string indexing\n",
    "a+=a[1]\n",
    "print(a)\n",
    "\n",
    "#slicing a string\n",
    "print(a[:3])\n",
    "\n",
    "#slicing a string with interval \n",
    "print(a[0:3:2])\n",
    "\n",
    "\n",
    "#string as list\n",
    "a=list(\"hello\")\n",
    "print(\"\".join(a))\n",
    "\n",
    "\n",
    "#update a string\n",
    "a=\"hello world\"\n",
    "s2=a.replace(\"hello\",\"Hello\")\n",
    "print(s2)\n",
    "\n",
    "\n",
    "#len of string\n",
    "print(len(a))\n",
    "\n",
    "#upper and lower case\n",
    "print(a.upper())\n",
    "print(a.lower())\n",
    "\n",
    "\n",
    "#remove spaces from both end\n",
    "a=\" hello \"\n",
    "print(a.strip())\n",
    "\n",
    "#concating a string\n",
    "a=\"hello\"\n",
    "b=a+\"world\"\n",
    "print(b)\n"
   ]
  },
  {
   "cell_type": "markdown",
   "metadata": {},
   "source": [
    "#### **Data types to store collectoin of data**\n",
    "- list\n",
    "- tuple \n",
    "- set \n",
    "- dictionary\n",
    "\n",
    "#### **Properties** \n",
    "\n",
    "- **Ordered** : The sequence of elements will remain the same as their original insertion order when you access, iterate, or perform operations on them.\n",
    "- **Allow Duplicates** : Allow Duplicates values\n",
    "- **Changeable** : once declared values can be changed"
   ]
  },
  {
   "cell_type": "markdown",
   "metadata": {},
   "source": [
    "#### **List**\n",
    "List is a collection which is ordered and changeable. Allows duplicate members.\n"
   ]
  },
  {
   "cell_type": "code",
   "execution_count": 53,
   "metadata": {},
   "outputs": [
    {
     "name": "stdout",
     "output_type": "stream",
     "text": [
      "[80, 82, 84, 90]\n",
      "80\n",
      "['ali', 24, True, 3.9]\n"
     ]
    }
   ],
   "source": [
    "# Declare a list\n",
    "marks=[80,82,84,90]\n",
    "print(marks)\n",
    "\n",
    "# indexing the values of list\n",
    "print(marks[0]) #print value at index 0\n",
    "\n",
    "# list with differnet data types values\n",
    "data=[\"ali\",24,True,3.9]\n",
    "print(data)\n",
    "\n"
   ]
  },
  {
   "cell_type": "code",
   "execution_count": 57,
   "metadata": {},
   "outputs": [
    {
     "name": "stdout",
     "output_type": "stream",
     "text": [
      "[1, 2, 3]\n",
      "1\n",
      "9\n",
      "[24, 4.4, ['x', 'y', 'z']]\n",
      "[[[1, 2, 3], [4, 5, 6], [7, 8, 9]], ['x', 'y', 'z']]\n"
     ]
    }
   ],
   "source": [
    "#Nested list\n",
    "\n",
    "\n",
    "matrix = [[1, 2, 3], [4, 5, 6], [7, 8, 9]]\n",
    "\n",
    "# Access the first inner list\n",
    "print(matrix[0])\n",
    "\n",
    "# Access the first element of the first inner list\n",
    "print(matrix[0][0])\n",
    "\n",
    "# Access the last element of the last inner list\n",
    "print(matrix[2][2])\n",
    "\n",
    "\n",
    "#list as item\n",
    "names=[\"x\",\"y\",\"z\"]\n",
    "data=[24,4.4,names]\n",
    "print(data)\n",
    "\n",
    "# list of list\n",
    "data=[matrix,names]\n",
    "print(data)"
   ]
  },
  {
   "cell_type": "code",
   "execution_count": 60,
   "metadata": {},
   "outputs": [
    {
     "name": "stdout",
     "output_type": "stream",
     "text": [
      "1\n",
      "3\n",
      "[4, 5, 6]\n"
     ]
    }
   ],
   "source": [
    "## Access elment of list \n",
    "a=[1,2,3]\n",
    "print(a[0])\n",
    "\n",
    "# nested list\n",
    "a=[[1,2,3],[4,5,6]]\n",
    "print(a[0][2])\n",
    "\n",
    "# -- Negative indexing\n",
    "print(a[-1])"
   ]
  },
  {
   "cell_type": "code",
   "execution_count": 61,
   "metadata": {},
   "outputs": [
    {
     "name": "stdout",
     "output_type": "stream",
     "text": [
      "[1, 2, 3, 4]\n",
      "[4, 5]\n",
      "[1, 2, 3, 4, 5]\n"
     ]
    }
   ],
   "source": [
    "\n",
    "## List Slicing Elements \n",
    "a=[1,2,3,4,5]\n",
    "print(a[0:4])\n",
    "\n",
    "print(a[3:])\n",
    "\n",
    "print(a[:])"
   ]
  },
  {
   "cell_type": "code",
   "execution_count": 62,
   "metadata": {},
   "outputs": [
    {
     "name": "stdout",
     "output_type": "stream",
     "text": [
      "[0, 5, 7, 11]\n"
     ]
    }
   ],
   "source": [
    "## Change value in list\n",
    "\n",
    "values = [3 , 5 , 7 , 11]\n",
    "\n",
    "values[0] = 0\n",
    "\n",
    "print(values)\n",
    "\n"
   ]
  },
  {
   "cell_type": "code",
   "execution_count": 64,
   "metadata": {},
   "outputs": [
    {
     "name": "stdout",
     "output_type": "stream",
     "text": [
      "[1, 3, 5, [9, 7, 5]]\n",
      "['re', 're', 're']\n"
     ]
    }
   ],
   "source": [
    "## Concatenating and repeating lists\n",
    "\n",
    "odd = [1, 3, 5]\n",
    "\n",
    "print(odd + [9, 7, 5])\n",
    "\n",
    "print([\"re\"] * 3)"
   ]
  },
  {
   "cell_type": "code",
   "execution_count": 65,
   "metadata": {},
   "outputs": [
    {
     "name": "stdout",
     "output_type": "stream",
     "text": [
      "[3, 5, 7, 11, 12, [14, 16]]\n",
      "[3, 5, 7, 11, 12, [14, 16], 14, 16, 18]\n",
      "[1, 3, 9]\n"
     ]
    }
   ],
   "source": [
    "# List Methods \n",
    "odd = [3 , 5 , 7 , 11]\n",
    "\n",
    "# The append() method is used to add an element to the end of a list.\n",
    "odd.append(12)\n",
    "odd.append([14,16]) #will be added as list\n",
    "print(odd)\n",
    "\n",
    "# The extend() method is used to add the elements of an iterable (e.g., list, tuple, string) to the end of a list\n",
    "odd.extend([14,16,18])\n",
    "print(odd)\n",
    "\n",
    "# The insert() method is used to Inserts a value at a specific index without overwriting existing values.\n",
    "# list.insert(index, element) \n",
    "odd = [1, 9]\n",
    "odd.insert(1,3)\n",
    "print(odd)\n",
    "\n"
   ]
  },
  {
   "cell_type": "code",
   "execution_count": 66,
   "metadata": {},
   "outputs": [
    {
     "name": "stdout",
     "output_type": "stream",
     "text": [
      "[3, 5, 7]\n",
      "[3, 7]\n",
      "[]\n"
     ]
    }
   ],
   "source": [
    "# removing values from a list\n",
    "\n",
    "odd = [3 , 5 , 7 , 11]\n",
    "\n",
    "# The remove() method is used to remove an element of list.\n",
    "odd.remove(11)\n",
    "print(odd)\n",
    "\n",
    "# The pop() method is used to remove element at specified index\n",
    "odd.pop(1)\n",
    "print(odd)\n",
    "\n",
    "# The clear() method is used to clear list.\n",
    "odd.clear()\n",
    "print(odd)"
   ]
  },
  {
   "cell_type": "code",
   "execution_count": 68,
   "metadata": {},
   "outputs": [
    {
     "name": "stdout",
     "output_type": "stream",
     "text": [
      "3\n",
      "5\n",
      "7\n",
      "11\n"
     ]
    }
   ],
   "source": [
    "# iterating over a list\n",
    "\n",
    "odd = [3 , 5 , 7 , 11]\n",
    "for i in odd:\n",
    "    print(i)"
   ]
  },
  {
   "cell_type": "markdown",
   "metadata": {},
   "source": [
    "#### **Tuple**\n",
    "Tuple is a collection which is ordered and unchangeable. Allows duplicate members.\n"
   ]
  },
  {
   "cell_type": "code",
   "execution_count": 75,
   "metadata": {},
   "outputs": [
    {
     "name": "stdout",
     "output_type": "stream",
     "text": [
      "()\n",
      "('x', 'y', 'z')\n",
      "ali\n",
      "<class 'str'>\n",
      "('ali',)\n",
      "<class 'tuple'>\n",
      "('ali', 'ahmar')\n"
     ]
    }
   ],
   "source": [
    "# empty tuple\n",
    "names=()\n",
    "print(names)\n",
    "\n",
    "# tuple with values\n",
    "names=(\"x\",\"y\",\"z\")\n",
    "print(names)\n",
    "\n",
    "# creating tuple with one iteam \n",
    "\n",
    "names=(\"ali\") # not a tuple\n",
    "print(names)\n",
    "print(type(names))\n",
    "\n",
    "names=(\"ali\",) # tuple\n",
    "print(names)\n",
    "print(type(names))\n",
    "\n",
    "\n",
    "names=\"ali\",\"ahmar\" # paranthesis is optional\n",
    "print(names)"
   ]
  },
  {
   "cell_type": "code",
   "execution_count": 80,
   "metadata": {},
   "outputs": [
    {
     "name": "stdout",
     "output_type": "stream",
     "text": [
      "x\n",
      "z\n",
      "('y', 'z')\n",
      "x\n",
      "y\n",
      "z\n",
      "('y',)\n",
      "('x',)\n",
      "('y', 'z')\n",
      "('x', 'y', 'z')\n"
     ]
    }
   ],
   "source": [
    "# Access Tuple Items\n",
    "\n",
    "# index access\n",
    "names=(\"x\",\"y\",\"z\")\n",
    "print(names[0]) \n",
    "\n",
    "#negative access\n",
    "print(names[-1])\n",
    "\n",
    "# range access\n",
    "print(names[1:3])\n",
    "\n",
    "# loop access\n",
    "for name in names:\n",
    "    print(name)\n",
    "\n",
    "\n",
    "\n",
    "# Accessing element using slicing\n",
    "\n",
    "# elements 1nd to 2nd\n",
    "print(names[1:2])\n",
    "\n",
    "# elements beginning to 2nd\n",
    "print(names[:-2])\n",
    "\n",
    "# elements 1 to end\n",
    "print(names[1:])\n",
    "\n",
    "# elements beginning to end\n",
    "print(names[:])\n",
    "\n"
   ]
  },
  {
   "cell_type": "code",
   "execution_count": 86,
   "metadata": {},
   "outputs": [
    {
     "name": "stdout",
     "output_type": "stream",
     "text": [
      "(4, 2, 3, [9, 5])\n",
      "('p', 'r', 'o', 'g', 'r', 'a', 'm', 'i', 'z')\n"
     ]
    }
   ],
   "source": [
    "# Mutable Tupples\n",
    "\n",
    "# Changing tuple values\n",
    "my_tuple = (4, 2, 3, [6, 5])\n",
    "\n",
    "# TypeError: 'tuple' object does not support item assignment\n",
    "#my_tuple[1] = 9\n",
    "\n",
    "# However, item of mutable element can be changed\n",
    "my_tuple[3][0] = 9  \n",
    "print(my_tuple)\n",
    "\n",
    "# Tuples can be reassigned\n",
    "my_tuple = ('p', 'r', 'o', 'g', 'r', 'a', 'm', 'i', 'z')\n",
    "print(my_tuple)"
   ]
  },
  {
   "cell_type": "code",
   "execution_count": 87,
   "metadata": {},
   "outputs": [
    {
     "name": "stdout",
     "output_type": "stream",
     "text": [
      "(1, 2, 3, 4, 5, 6)\n",
      "('Repeat', 'Repeat', 'Repeat')\n"
     ]
    }
   ],
   "source": [
    "# Operations on Tupples\n",
    "\n",
    "# Concatenation\n",
    "print((1, 2, 3) + (4, 5, 6))\n",
    "\n",
    "# Repeat\n",
    "print((\"Repeat\",) * 3)"
   ]
  },
  {
   "cell_type": "code",
   "execution_count": 88,
   "metadata": {},
   "outputs": [
    {
     "ename": "NameError",
     "evalue": "name 'my_tuple' is not defined",
     "output_type": "error",
     "traceback": [
      "\u001b[1;31m---------------------------------------------------------------------------\u001b[0m",
      "\u001b[1;31mNameError\u001b[0m                                 Traceback (most recent call last)",
      "Cell \u001b[1;32mIn[88], line 14\u001b[0m\n\u001b[0;32m     11\u001b[0m \u001b[38;5;28;01mdel\u001b[39;00m my_tuple\n\u001b[0;32m     13\u001b[0m \u001b[38;5;66;03m# NameError: name 'my_tuple' is not defined\u001b[39;00m\n\u001b[1;32m---> 14\u001b[0m \u001b[38;5;28mprint\u001b[39m(\u001b[43mmy_tuple\u001b[49m)\n",
      "\u001b[1;31mNameError\u001b[0m: name 'my_tuple' is not defined"
     ]
    }
   ],
   "source": [
    "# Deleting a Tupple\n",
    "\n",
    "# Deleting tuples\n",
    "my_tuple = ('p', 'r', 'o', 'g', 'r', 'a', 'm', 'i', 'z')\n",
    "\n",
    "# can't delete items\n",
    "# del my_tuple[3]\n",
    "# TypeError: 'tuple' object doesn't support item deletion\n",
    "\n",
    "# Can delete an entire tuple\n",
    "del my_tuple\n",
    "\n",
    "# NameError: name 'my_tuple' is not defined\n",
    "print(my_tuple)"
   ]
  },
  {
   "cell_type": "code",
   "execution_count": 97,
   "metadata": {},
   "outputs": [
    {
     "name": "stdout",
     "output_type": "stream",
     "text": [
      "2\n",
      "4\n",
      "r is present\n"
     ]
    }
   ],
   "source": [
    "# Operations on tuple\n",
    "\n",
    "# count()\tReturns the number of times a specified value occurs in a tuple\n",
    "my_tuple = ('p', 'r', 'o', 'g', 'r', 'a', 'm', 'i', 'z')\n",
    "print(my_tuple.count('r'))\n",
    "\n",
    "# index()\tSearches the tuple for a specified value and returns the position of where it was found\n",
    "# tuple.index(value, start, end)\n",
    "print(my_tuple.index(\"r\",4,10))\n",
    "\n",
    "if 'r' in my_tuple:\n",
    "    print(\"r is present\")"
   ]
  },
  {
   "cell_type": "code",
   "execution_count": 78,
   "metadata": {},
   "outputs": [
    {
     "name": "stdout",
     "output_type": "stream",
     "text": [
      "('x', 'y', 'z')\n",
      "x y z\n"
     ]
    }
   ],
   "source": [
    "# packing tuple\n",
    "names=(\"x\",\"y\",\"z\")\n",
    "print(names)\n",
    "\n",
    "\n",
    "# unpacking tuple\n",
    "x,y,z=names\n",
    "print(x,y,z)"
   ]
  },
  {
   "cell_type": "code",
   "execution_count": 100,
   "metadata": {},
   "outputs": [],
   "source": [
    "# LIST VS TUPPLE\n",
    "\n",
    "\n",
    "# list mutable \n",
    "# tupple not \n",
    "# perf : tupple > list\n",
    "\n",
    "#Since tuples are immutable, iterating through a tuple is faster than with list. So there is a slight performance boost.\n",
    "#Tuples that contain immutable elements can be used as a key for a dictionary. With lists, this is not possible.\n"
   ]
  },
  {
   "cell_type": "markdown",
   "metadata": {},
   "source": [
    "#### **Set**\n",
    "Set items are unordered, unchangeable(can add and remove elments but cannot replace it), and do not allow duplicate values.\n",
    "\n",
    "set can not be indexed because of unordered"
   ]
  },
  {
   "cell_type": "code",
   "execution_count": 106,
   "metadata": {},
   "outputs": [
    {
     "name": "stdout",
     "output_type": "stream",
     "text": [
      "{'x', 'y', 'z'}\n",
      "{False, 'ali', 3.3, 3}\n",
      "<class 'set'>\n",
      "{1, 2, 3}\n",
      "{} <class 'dict'>\n"
     ]
    }
   ],
   "source": [
    "# Declearing a set\n",
    "my_set={\"x\",\"y\",\"z\"}\n",
    "print(my_set)\n",
    "\n",
    "# set with different datatypes values\n",
    "my_set = {False,\"ali\",3.3,3}\n",
    "print(my_set)\n",
    "\n",
    "# check the type of the tuple\n",
    "print(type(my_set))\n",
    "\n",
    "# making a set from a list\n",
    "print(set([1,2,3]))\n",
    "\n",
    "# empty set is treated as empty dictionary\n",
    "a={}\n",
    "print(a,type(a))\n",
    "\n"
   ]
  },
  {
   "cell_type": "code",
   "execution_count": 4,
   "metadata": {},
   "outputs": [
    {
     "name": "stdout",
     "output_type": "stream",
     "text": [
      "{1, 2, 3}\n",
      "{1, 2, 3}\n",
      "{1, 2, 3, 4}\n",
      "{1, 2, 3, 4, 5, 8, (1, 6)}\n"
     ]
    }
   ],
   "source": [
    "# Mutable Sets\n",
    "\n",
    "my_set = {1,2,3}\n",
    "print(my_set)\n",
    "\n",
    "# my_set[0]=0\n",
    "# TypeError: 'set' object does not support indexing\n",
    "\n",
    "# add an element\n",
    "my_set.add(2)\n",
    "print(my_set)\n",
    "\n",
    "#update() take iterable as input\n",
    "my_set.update([2, 3, 4])\n",
    "print(my_set)\n",
    "\n",
    "# update() adds multiple elements to the set, and it can take an iterable like a list or another set.\n",
    "my_set.update([4, 5], {(1,6), 8})\n",
    "print(my_set)"
   ]
  },
  {
   "cell_type": "code",
   "execution_count": 107,
   "metadata": {},
   "outputs": [
    {
     "name": "stdout",
     "output_type": "stream",
     "text": [
      "False\n",
      "ali\n",
      "3.3\n",
      "3\n"
     ]
    }
   ],
   "source": [
    "# Access Items\n",
    "# You cannot access items in a set by referring to an index or a key.\n",
    "# but can be looped\n",
    "my_set = {False,\"ali\",3.3,3}\n",
    "for value in my_set:\n",
    "    print(value)"
   ]
  },
  {
   "cell_type": "code",
   "execution_count": 118,
   "metadata": {},
   "outputs": [
    {
     "name": "stdout",
     "output_type": "stream",
     "text": [
      "{'y', 'z'}\n",
      "{'y', 'z'}\n",
      "{'z'}\n",
      "set()\n"
     ]
    }
   ],
   "source": [
    "# Remove item from a set\n",
    "# To remove an item in a set, use the remove(), or the discard() method.\n",
    "\n",
    "my_set={\"x\",\"y\",\"z\"}\n",
    "my_set.remove(\"x\")\n",
    "print(my_set) # if element not found in the set then it will how an error\n",
    "\n",
    "my_set.discard(\"x\")\n",
    "print(my_set) # If the item to remove does not exist, discard() will NOT raise an error.\n",
    "\n",
    "my_set.pop()\n",
    "print(my_set) # pop() method will remove any random value from , if the set become empty it will show the error\n",
    "\n",
    "my_set.clear() # clear() method clear the set by removing every elment from it\n",
    "print(my_set)"
   ]
  },
  {
   "cell_type": "markdown",
   "metadata": {},
   "source": [
    "## **Dictionary**\n",
    "Dictionaries are used to store data values in key:value pairs.\n",
    "\n",
    "A dictionary is a collection which is ordered, changeable and do not allow duplicates."
   ]
  },
  {
   "cell_type": "code",
   "execution_count": 6,
   "metadata": {},
   "outputs": [
    {
     "name": "stdout",
     "output_type": "stream",
     "text": [
      "20\n",
      "hello\n",
      "{1: 2}\n",
      "{1: [(1, 'apple'), (2, 'ball')], 2: 'ball'}\n"
     ]
    }
   ],
   "source": [
    "#similar datatype key dictionary \n",
    "data={\"name\":\"ismail\",\"age\":20}\n",
    "print(data[\"age\"])\n",
    "\n",
    "#different datatype key dictionary\n",
    "data={\"name\":\"ismail\",2:\"hello\"}\n",
    "print(data[2])\n",
    "\n",
    "#make dictionary from a tupple\n",
    "data=(1,2)\n",
    "print(dict([data]))\n",
    "\n",
    "# make a dictionary from a iterable\n",
    "my_dict = dict([(1,[(1,'apple'), (2,'ball')]), (2,'ball')])\n",
    "print(my_dict)"
   ]
  },
  {
   "cell_type": "code",
   "execution_count": 126,
   "metadata": {},
   "outputs": [
    {
     "name": "stdout",
     "output_type": "stream",
     "text": [
      "x\n",
      "26\n",
      "None\n"
     ]
    },
    {
     "ename": "KeyError",
     "evalue": "'address'",
     "output_type": "error",
     "traceback": [
      "\u001b[1;31m---------------------------------------------------------------------------\u001b[0m",
      "\u001b[1;31mKeyError\u001b[0m                                  Traceback (most recent call last)",
      "Cell \u001b[1;32mIn[126], line 12\u001b[0m\n\u001b[0;32m      9\u001b[0m \u001b[38;5;28mprint\u001b[39m(my_dict\u001b[38;5;241m.\u001b[39mget(\u001b[38;5;124m'\u001b[39m\u001b[38;5;124maddress\u001b[39m\u001b[38;5;124m'\u001b[39m))\n\u001b[0;32m     11\u001b[0m \u001b[38;5;66;03m# KeyError\u001b[39;00m\n\u001b[1;32m---> 12\u001b[0m \u001b[38;5;28mprint\u001b[39m(\u001b[43mmy_dict\u001b[49m\u001b[43m[\u001b[49m\u001b[38;5;124;43m'\u001b[39;49m\u001b[38;5;124;43maddress\u001b[39;49m\u001b[38;5;124;43m'\u001b[39;49m\u001b[43m]\u001b[49m)\n",
      "\u001b[1;31mKeyError\u001b[0m: 'address'"
     ]
    }
   ],
   "source": [
    "# Accessing Elements from Dictionary\n",
    "# get vs [] for retrieving elements\n",
    "my_dict = {'name': 'x', 'age': 26}\n",
    "print(my_dict['name'])\n",
    "print(my_dict.get('age'))\n",
    "\n",
    "# Trying to access keys which doesn't exist throws error\n",
    "# Output None\n",
    "print(my_dict.get('address'))\n",
    "\n",
    "# KeyError\n",
    "print(my_dict['address'])"
   ]
  },
  {
   "cell_type": "code",
   "execution_count": 127,
   "metadata": {},
   "outputs": [
    {
     "name": "stdout",
     "output_type": "stream",
     "text": [
      "{'name': 'ali', 'age': 27}\n",
      "{'name': 'ali', 'age': 27, 'address': 'Downtown'}\n"
     ]
    }
   ],
   "source": [
    "# Changing and Adding Dictionary elements\n",
    "my_dict = {'name': 'ali', 'age': 32}\n",
    "\n",
    "# update value\n",
    "my_dict['age'] = 27\n",
    "print(my_dict)\n",
    "\n",
    "# add item\n",
    "my_dict['address'] = 'Downtown'\n",
    "print(my_dict)"
   ]
  },
  {
   "cell_type": "code",
   "execution_count": 130,
   "metadata": {},
   "outputs": [
    {
     "name": "stdout",
     "output_type": "stream",
     "text": [
      "16\n",
      "{1: 1, 2: 4, 3: 9, 5: 25}\n",
      "(5, 25)\n",
      "{1: 1, 2: 4, 3: 9}\n",
      "{}\n"
     ]
    }
   ],
   "source": [
    "# Removing elements from Dictionary\n",
    "\n",
    "# create a dictionary\n",
    "squares = {1: 1, 2: 4, 3: 9, 4: 16, 5: 25}\n",
    "\n",
    "# remove a particular item by passing the key of the value in the pop mehtod as paramter, returns its value\n",
    "print(squares.pop(4)) \n",
    "print(squares)\n",
    "\n",
    "# remove an arbitrary item, return (key,value)\n",
    "print(squares.popitem()) # remove the last pair from the dictionary and return the pair as tuple \n",
    "print(squares)\n",
    "\n",
    "# remove all items\n",
    "squares.clear()\n",
    "print(squares)\n",
    "\n",
    "# delete the dictionary itself\n",
    "del squares\n",
    "# print(squares)"
   ]
  },
  {
   "cell_type": "code",
   "execution_count": 1,
   "metadata": {},
   "outputs": [
    {
     "name": "stdout",
     "output_type": "stream",
     "text": [
      "keys :---------- \n",
      "name\n",
      "age\n",
      "address\n",
      "values : --------------- \n",
      "ismail\n",
      "23\n",
      "pakistan\n",
      "Items or pair : --------------- \n",
      "('name', 'ismail')\n",
      "('age', 23)\n",
      "('address', 'pakistan')\n",
      "name is present \n",
      "{'name': 'ismail', 'age': 23, 'address': 'pakistan'}\n"
     ]
    }
   ],
   "source": [
    "# methods in the dictionary\n",
    "\n",
    "\n",
    "# key() return the keys of the dictionary\n",
    "data={\"name\":\"ismail\",\"age\":23,\"address\":\"pakistan\"}\n",
    "x = data.keys()\n",
    "print(\"keys :---------- \")\n",
    "for i in x:\n",
    "    print(i)\n",
    "\n",
    "# values() return the values of all the keys in the dictionary as the list\n",
    "data={\"name\":\"ismail\",\"age\":23,\"address\":\"pakistan\"}\n",
    "x = data.values()\n",
    "print(\"values : --------------- \")\n",
    "for i in x:\n",
    "    print(i)\n",
    "\n",
    "\n",
    "# The items() method will return each item in a dictionary, as tuples in a list.\n",
    "\n",
    "data={\"name\":\"ismail\",\"age\":23,\"address\":\"pakistan\"}\n",
    "x = data.items()\n",
    "print(\"Items or pair : --------------- \")\n",
    "for i in x:\n",
    "    print(i)\n",
    "\n",
    "\n",
    "# To determine if a specified key is present in a dictionary use the ( in ) keyword:\n",
    "if \"name\" in data: \n",
    "    print(\"name is present \")\n",
    "\n",
    "print(data)"
   ]
  },
  {
   "cell_type": "markdown",
   "metadata": {},
   "source": [
    "# **Conditional Statment**\n",
    "if else statements"
   ]
  },
  {
   "cell_type": "code",
   "execution_count": 142,
   "metadata": {},
   "outputs": [
    {
     "name": "stdout",
     "output_type": "stream",
     "text": [
      "old\n"
     ]
    }
   ],
   "source": [
    "year=2010\n",
    "if year<2015:\n",
    "    print(\"old\")"
   ]
  },
  {
   "cell_type": "markdown",
   "metadata": {},
   "source": [
    "# **Loops**"
   ]
  },
  {
   "cell_type": "code",
   "execution_count": 7,
   "metadata": {},
   "outputs": [
    {
     "name": "stdout",
     "output_type": "stream",
     "text": [
      "0\n",
      "1\n",
      "2\n",
      "3\n",
      "4\n",
      "5\n",
      "6\n",
      "7\n",
      "8\n",
      "9\n",
      "loop end\n"
     ]
    }
   ],
   "source": [
    "# for loop\n",
    "for i in range(10):\n",
    "    print(i)\n",
    "else:\n",
    "    print(\"loop end\")"
   ]
  },
  {
   "cell_type": "code",
   "execution_count": 150,
   "metadata": {},
   "outputs": [
    {
     "name": "stdout",
     "output_type": "stream",
     "text": [
      "5\n",
      "4\n",
      "3\n",
      "2\n",
      "1\n",
      "loop ended\n"
     ]
    }
   ],
   "source": [
    "# while loop\n",
    "i=5\n",
    "while i>0:\n",
    "    print(i)\n",
    "    i-=1\n",
    "else: # loop will run one time extra after condition fails\n",
    "    print(\"loop ended\")\n",
    "\n"
   ]
  },
  {
   "cell_type": "code",
   "execution_count": 149,
   "metadata": {},
   "outputs": [
    {
     "name": "stdout",
     "output_type": "stream",
     "text": [
      "1\n",
      "2\n",
      "3\n"
     ]
    }
   ],
   "source": [
    "# while with break statement\n",
    "i = 1\n",
    "while i < 6:\n",
    "  print(i)\n",
    "  if i == 3:\n",
    "    break\n",
    "  i += 1"
   ]
  },
  {
   "cell_type": "code",
   "execution_count": 151,
   "metadata": {},
   "outputs": [
    {
     "name": "stdout",
     "output_type": "stream",
     "text": [
      "1\n",
      "2\n",
      "4\n",
      "5\n",
      "6\n"
     ]
    }
   ],
   "source": [
    "# while with continue statement\n",
    "i = 0\n",
    "while i < 6:\n",
    "  i += 1\n",
    "  if i == 3:\n",
    "    continue\n",
    "  print(i)\n"
   ]
  },
  {
   "cell_type": "markdown",
   "metadata": {},
   "source": [
    "# **Funcitons**"
   ]
  },
  {
   "cell_type": "code",
   "execution_count": 146,
   "metadata": {},
   "outputs": [
    {
     "name": "stdout",
     "output_type": "stream",
     "text": [
      "3\n"
     ]
    }
   ],
   "source": [
    "def sum(a,b):\n",
    "    return a+b\n",
    "\n",
    "print(sum(1,2))"
   ]
  },
  {
   "cell_type": "code",
   "execution_count": 147,
   "metadata": {},
   "outputs": [
    {
     "name": "stdout",
     "output_type": "stream",
     "text": [
      "None\n"
     ]
    }
   ],
   "source": [
    "def sum(a,b):\n",
    "    pass    #if you for some reason have a function definition with no content, put in the pass statement to avoid getting an error.\n",
    "\n",
    "print(sum(1,2))"
   ]
  },
  {
   "cell_type": "markdown",
   "metadata": {},
   "source": []
  },
  {
   "cell_type": "code",
   "execution_count": null,
   "metadata": {},
   "outputs": [],
   "source": []
  }
 ],
 "metadata": {
  "kernelspec": {
   "display_name": "base",
   "language": "python",
   "name": "python3"
  },
  "language_info": {
   "codemirror_mode": {
    "name": "ipython",
    "version": 3
   },
   "file_extension": ".py",
   "mimetype": "text/x-python",
   "name": "python",
   "nbconvert_exporter": "python",
   "pygments_lexer": "ipython3",
   "version": "3.11.7"
  }
 },
 "nbformat": 4,
 "nbformat_minor": 2
}
