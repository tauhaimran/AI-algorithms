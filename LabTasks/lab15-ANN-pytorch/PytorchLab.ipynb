{
  "nbformat": 4,
  "nbformat_minor": 0,
  "metadata": {
    "colab": {
      "provenance": []
    },
    "kernelspec": {
      "name": "python3",
      "display_name": "Python 3"
    },
    "language_info": {
      "name": "python"
    }
  },
  "cells": [
    {
      "cell_type": "code",
      "execution_count": null,
      "metadata": {
        "id": "xJpk-nh62RE6"
      },
      "outputs": [],
      "source": [
        "import torch\n",
        "import numpy as np\n",
        "import torch.nn as nn\n",
        "import torch.nn.functional as F\n",
        "import pandas as pd\n",
        "import matplotlib.pyplot as plt\n",
        "%matplotlib inline\n"
      ]
    },
    {
      "cell_type": "markdown",
      "source": [
        "Create the Neural Network Model using nn.module"
      ],
      "metadata": {
        "id": "NE3X7-6r6TTJ"
      }
    },
    {
      "cell_type": "code",
      "source": [
        "# Model to classify types of Irises\n",
        "# there are 4 inputs and there are 3 outputs\n",
        "\n",
        "class Model(nn.Module):\n",
        "  def __init__(self, in_features = 4, h1=8, h2=9, out_features = 3):\n",
        "    super().__init__()\n",
        "\n",
        "\n",
        "  def forward(self,x):\n"
      ],
      "metadata": {
        "id": "ytrZF6ZI3T05"
      },
      "execution_count": null,
      "outputs": []
    },
    {
      "cell_type": "code",
      "source": [
        "torch.manual_seed(41)\n",
        "model = Model()"
      ],
      "metadata": {
        "id": "QPV9JK6r3b-h"
      },
      "execution_count": null,
      "outputs": []
    },
    {
      "cell_type": "markdown",
      "source": [
        "# Data Preprocessing\n",
        "Split the dataset, extract the features and normalize if needed, and convert the labels into tensors using LongTensor()"
      ],
      "metadata": {
        "id": "Smtb2TTn66vc"
      }
    },
    {
      "cell_type": "code",
      "source": [
        "url = 'https://gist.githubusercontent.com/curran/a08a1080b88344b0c8a7/raw/0e7a9b0a5d22642a06d3d5b9bcbad9890c8ee534/iris.csv'\n",
        "df = pd.read_csv(url)"
      ],
      "metadata": {
        "id": "jX9SJYpp2v5-"
      },
      "execution_count": null,
      "outputs": []
    },
    {
      "cell_type": "code",
      "source": [
        "df.head()"
      ],
      "metadata": {
        "id": "uSqQLwD921g9"
      },
      "execution_count": null,
      "outputs": []
    },
    {
      "cell_type": "code",
      "source": [
        "from sklearn.model_selection import train_test_split"
      ],
      "metadata": {
        "id": "NTqmfFnJ3APG"
      },
      "execution_count": null,
      "outputs": []
    },
    {
      "cell_type": "markdown",
      "source": [
        "Set the Loss Function and optimizer"
      ],
      "metadata": {
        "id": "bJga_iln8d6N"
      }
    },
    {
      "cell_type": "code",
      "source": [],
      "metadata": {
        "id": "w0bAkNpS3Nyf"
      },
      "execution_count": null,
      "outputs": []
    },
    {
      "cell_type": "markdown",
      "source": [
        "# Train the model"
      ],
      "metadata": {
        "id": "ccWIglSA8qQe"
      }
    },
    {
      "cell_type": "code",
      "source": [
        "# Train our model!\n",
        "# Epochs? (one run thru all the training data in our network)\n",
        "epochs = 100\n",
        "losses = []\n",
        "\n"
      ],
      "metadata": {
        "id": "4Q_Fu2WN3fHp"
      },
      "execution_count": null,
      "outputs": []
    },
    {
      "cell_type": "markdown",
      "source": [
        "# Graph the losses per epoch"
      ],
      "metadata": {
        "id": "ZT4Z2jI68zl2"
      }
    },
    {
      "cell_type": "code",
      "source": [
        "# Graph it out!"
      ],
      "metadata": {
        "id": "An4HqBux3sQL"
      },
      "execution_count": null,
      "outputs": []
    },
    {
      "cell_type": "markdown",
      "source": [
        "# Test the model on the test set"
      ],
      "metadata": {
        "id": "tIvCEf7s9KGQ"
      }
    },
    {
      "cell_type": "code",
      "source": [
        "\n",
        "# Evaluate Model on Test Data Set (validate model on test set)\n",
        "\n"
      ],
      "metadata": {
        "id": "IqvRKpoc3wO7"
      },
      "execution_count": null,
      "outputs": []
    },
    {
      "cell_type": "code",
      "source": [],
      "metadata": {
        "id": "UyjZiWnh3zq8"
      },
      "execution_count": null,
      "outputs": []
    }
  ]
}