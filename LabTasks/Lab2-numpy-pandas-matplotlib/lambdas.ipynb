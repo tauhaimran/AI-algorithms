{
 "cells": [
  {
   "cell_type": "markdown",
   "metadata": {},
   "source": [
    "# **Lambda Funcitons**"
   ]
  },
  {
   "cell_type": "markdown",
   "metadata": {},
   "source": [
    "Lambda functions are anonymous, one-liner functions that you can use where a small function is required temporarily.\n",
    "\n",
    "lambda arguments: expression\n"
   ]
  },
  {
   "cell_type": "code",
   "execution_count": 1,
   "metadata": {},
   "outputs": [
    {
     "name": "stdout",
     "output_type": "stream",
     "text": [
      "4\n"
     ]
    }
   ],
   "source": [
    "square=lambda x : x**2\n",
    "print(square(2))"
   ]
  },
  {
   "cell_type": "markdown",
   "metadata": {},
   "source": [
    "Lambda functions are useful in specific cases where writing a full def function make code inefficient."
   ]
  },
  {
   "cell_type": "markdown",
   "metadata": {},
   "source": [
    "### **Using Lambda Inside map()**\n",
    "#### **map()**\n",
    "The map() function applies a given function to all items in an iterable (like a list, tuple, etc.) \n",
    "\n",
    "Syntax : map(function, iterable, ...)"
   ]
  },
  {
   "cell_type": "code",
   "execution_count": 2,
   "metadata": {},
   "outputs": [
    {
     "name": "stdout",
     "output_type": "stream",
     "text": [
      "[1, 4, 9, 16]\n"
     ]
    }
   ],
   "source": [
    "# map with single iterable\n",
    "numbers=[1,2,3,4]\n",
    "squared_numbers=list(map(lambda x:x**2,numbers))\n",
    "print(squared_numbers)\n"
   ]
  },
  {
   "cell_type": "code",
   "execution_count": 6,
   "metadata": {},
   "outputs": [
    {
     "name": "stdout",
     "output_type": "stream",
     "text": [
      "[2, 4, 6]\n"
     ]
    }
   ],
   "source": [
    "# map with two iterable\n",
    "numbers1=[1,2,3,4]\n",
    "numbers2=[1,2,3]\n",
    "addition=list(map(lambda x,y: x+y,numbers1,numbers2))\n",
    "print(addition)"
   ]
  },
  {
   "cell_type": "markdown",
   "metadata": {},
   "source": [
    "### **Using Lambda Inside filter()**\n",
    "#### **filter()**\n",
    "The filter() function is used to filter elements from an iterable based on a given condition. It returns only the elements that satisfy the condition (i.e., where the function returns True). \n",
    "\n",
    "Syntax : filter(function, iterable)"
   ]
  },
  {
   "cell_type": "code",
   "execution_count": 7,
   "metadata": {},
   "outputs": [
    {
     "name": "stdout",
     "output_type": "stream",
     "text": [
      "[2, 4, 6]\n"
     ]
    }
   ],
   "source": [
    "# filter even from a list of elements\n",
    "numbers=[1,2,3,4,5,5,6]\n",
    "even_number=list(filter(lambda x : x%2==0,numbers))\n",
    "print(even_number)"
   ]
  },
  {
   "cell_type": "markdown",
   "metadata": {},
   "source": [
    "### **Using Lambda Inside sorted()**\n",
    "#### **sorted()**\n",
    "The sorted() function is used to sort iterables (lists, tuples, dictionaries, etc.) and returns a new sorted list while keeping the original iterable unchanged.\n",
    "\n",
    "Syntax : sorted(iterable, key=None, reverse=False)"
   ]
  },
  {
   "cell_type": "code",
   "execution_count": 8,
   "metadata": {},
   "outputs": [
    {
     "name": "stdout",
     "output_type": "stream",
     "text": [
      "[1, 2, 5, 7, 9]\n",
      "[9, 7, 5, 2, 1]\n"
     ]
    }
   ],
   "source": [
    "numbers = [5, 2, 9, 1, 7]\n",
    "ascending = sorted(numbers)\n",
    "descending = sorted(numbers,reverse=True)\n",
    "\n",
    "print(ascending) \n",
    "print(descending) "
   ]
  },
  {
   "cell_type": "code",
   "execution_count": 9,
   "metadata": {},
   "outputs": [
    {
     "name": "stdout",
     "output_type": "stream",
     "text": [
      "['banana', 'cherry', 'apple']\n"
     ]
    }
   ],
   "source": [
    "# sorting list based on the second character of each word\n",
    "words = [\"banana\", \"apple\", \"cherry\"]\n",
    "sorted_list=list(sorted(words,key=lambda x:x[1]))\n",
    "print(sorted_list)"
   ]
  },
  {
   "cell_type": "code",
   "execution_count": 13,
   "metadata": {},
   "outputs": [
    {
     "name": "stdout",
     "output_type": "stream",
     "text": [
      "[('Charlie', 78), ('Alice', 85), ('Bob', 90)]\n"
     ]
    }
   ],
   "source": [
    "# sorting dictionary based on values\n",
    "grades = {\"Alice\": 85, \"Bob\": 90, \"Charlie\": 78}\n",
    "sorted_by_score = sorted(grades.items(),key=lambda x : x[1])\n",
    "print(sorted_by_score)\n"
   ]
  },
  {
   "cell_type": "code",
   "execution_count": null,
   "metadata": {},
   "outputs": [],
   "source": []
  }
 ],
 "metadata": {
  "kernelspec": {
   "display_name": "base",
   "language": "python",
   "name": "python3"
  },
  "language_info": {
   "codemirror_mode": {
    "name": "ipython",
    "version": 3
   },
   "file_extension": ".py",
   "mimetype": "text/x-python",
   "name": "python",
   "nbconvert_exporter": "python",
   "pygments_lexer": "ipython3",
   "version": "3.11.7"
  }
 },
 "nbformat": 4,
 "nbformat_minor": 2
}
