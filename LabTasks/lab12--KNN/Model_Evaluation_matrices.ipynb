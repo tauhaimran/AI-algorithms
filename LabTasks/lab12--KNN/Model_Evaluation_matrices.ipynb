{
  "cells": [
    {
      "cell_type": "markdown",
      "metadata": {
        "id": "aZVt6p3cWz1I"
      },
      "source": [
        "# **Model Evaluation Matrices**"
      ]
    },
    {
      "cell_type": "markdown",
      "metadata": {
        "id": "x2ZKNd8gXVoN"
      },
      "source": [
        "# Evaluation Metrics in Classification\n",
        "\n",
        "## What Are Evaluation Metrics?\n",
        "\n",
        "**Evaluation metrics** are quantitative measures used to assess the performance of a machine learning model. In the context of classification problems, these metrics help us understand how well the model distinguishes between classes (e.g., spam vs. not spam, disease vs. no disease).\n",
        "\n",
        "These metrics go beyond simply checking whether predictions are right or wrong,they give deeper insights into the *types* of mistakes a model makes, which is crucial for applications where certain errors are more costly than others.\n"
      ]
    },
    {
      "cell_type": "markdown",
      "metadata": {
        "id": "juM8ftABXmLC"
      },
      "source": [
        "### **Dummy model results**"
      ]
    },
    {
      "cell_type": "code",
      "execution_count": 2,
      "metadata": {
        "id": "B8uknvk8Vqi4"
      },
      "outputs": [],
      "source": [
        "# Actual values (ground truth)\n",
        "y_test = [1, 0, 1, 1, 0, 0, 1, 0, 1, 0]\n",
        "\n",
        "# Predicted values by the model\n",
        "y_pred = [1, 0, 1, 0, 0, 0, 1, 1, 0, 0]\n"
      ]
    },
    {
      "cell_type": "markdown",
      "metadata": {
        "id": "VV4gwqbLWUP9"
      },
      "source": [
        "# Evaluation Metrics in Classification\n",
        "\n",
        "## 1. Accuracy\n",
        "\n",
        "**Definition:**  \n",
        "Accuracy measures how many total predictions (both positives and negatives) were correct out of all predictions made.\n",
        "\n",
        "**Formula:**  \n",
        "$$\n",
        "\\text{Accuracy} = \\frac{TP + TN}{TP + TN + FP + FN}\n",
        "$$\n",
        "\n",
        "**When to Use:**  \n",
        "Accuracy is useful when the dataset is balanced, i.e., the number of samples in each class is roughly equal.\n",
        "\n",
        "**Example Use Case:**  \n",
        "Email spam detection when spam and non-spam messages are present in similar amounts.\n",
        "\n",
        "**Limitation:**  \n",
        "In imbalanced datasets, accuracy can be misleading. A model predicting only the majority class can still have high accuracy.\n",
        "\n",
        "---\n"
      ]
    },
    {
      "cell_type": "code",
      "execution_count": 3,
      "metadata": {
        "colab": {
          "base_uri": "https://localhost:8080/"
        },
        "id": "g2z3I8o6WU-l",
        "outputId": "bc9f162a-1e72-43c5-b15b-4775c730bb5e"
      },
      "outputs": [
        {
          "name": "stdout",
          "output_type": "stream",
          "text": [
            "Accuracy      : 0.7000\n"
          ]
        }
      ],
      "source": [
        "from sklearn.metrics import accuracy_score, precision_score, recall_score,f1_score, confusion_matrix, classification_report\n",
        "acc = accuracy_score(y_test, y_pred)\n",
        "print(f\"Accuracy      : {acc:.4f}\")"
      ]
    },
    {
      "cell_type": "markdown",
      "metadata": {
        "id": "2ucduY3DWy7O"
      },
      "source": [
        "\n",
        "## 2. Precision\n",
        "\n",
        "**Definition:**  \n",
        "Precision measures how many of the predicted positive values are actually positive.\n",
        "\n",
        "**Formula:**  \n",
        "$$\n",
        "\\text{Precision} = \\frac{TP}{TP + FP}\n",
        "$$\n",
        "\n",
        "**When to Use:**  \n",
        "Use precision when false positives are costly or dangerous.\n",
        "\n",
        "**Example Use Case:**  \n",
        "Medical diagnosis where wrongly identifying a healthy person as ill (false positive) leads to unnecessary stress or tests.\n",
        "\n",
        "---\n"
      ]
    },
    {
      "cell_type": "code",
      "execution_count": 4,
      "metadata": {
        "colab": {
          "base_uri": "https://localhost:8080/"
        },
        "id": "tQOdrNkyXy0A",
        "outputId": "c53536ff-de1d-4c5f-e904-7f8b8bcc2b47"
      },
      "outputs": [
        {
          "name": "stdout",
          "output_type": "stream",
          "text": [
            "Precision     : 0.7500\n"
          ]
        }
      ],
      "source": [
        "precision = precision_score(y_test, y_pred)\n",
        "print(f\"Precision     : {precision:.4f}\")"
      ]
    },
    {
      "cell_type": "markdown",
      "metadata": {
        "id": "fRDDJkYLYDdQ"
      },
      "source": [
        "\n",
        "## 3. Recall (Sensitivity or True Positive Rate)\n",
        "\n",
        "**Definition:**  \n",
        "Recall measures how many of the actual positive values were correctly predicted by the model.\n",
        "\n",
        "**Formula:**  \n",
        "$$\n",
        "\\text{Recall} = \\frac{TP}{TP + FN}\n",
        "$$\n",
        "\n",
        "**When to Use:**  \n",
        "Recall is important when missing a positive case (false negative) has severe consequences.\n",
        "\n",
        "**Example Use Case:**  \n",
        "Disease detection, where failing to detect a disease case is risky.\n",
        "\n",
        "---\n"
      ]
    },
    {
      "cell_type": "code",
      "execution_count": 6,
      "metadata": {
        "colab": {
          "base_uri": "https://localhost:8080/"
        },
        "id": "v-6Kl0ycYECw",
        "outputId": "1abbb687-c139-46d1-d7b5-8a7869351712"
      },
      "outputs": [
        {
          "name": "stdout",
          "output_type": "stream",
          "text": [
            "Recall        : 0.6000\n"
          ]
        }
      ],
      "source": [
        "recall = recall_score(y_test, y_pred)\n",
        "print(f\"Recall        : {recall:.4f}\")"
      ]
    },
    {
      "cell_type": "markdown",
      "metadata": {
        "id": "E2BTRWYUYVXC"
      },
      "source": [
        "\n",
        "## 4. F1 Score\n",
        "\n",
        "**Definition:**  \n",
        "The F1 Score is the harmonic mean of precision and recall. It balances the trade-off between the two.\n",
        "\n",
        "**Formula:**  \n",
        "$$\n",
        "\\text{F1 Score} = 2 \\times \\frac{\\text{Precision} \\times \\text{Recall}}{\\text{Precision} + \\text{Recall}}\n",
        "$$\n",
        "\n",
        "**When to Use:**  \n",
        "Use F1 Score when both false positives and false negatives are important, especially in imbalanced datasets.\n",
        "\n",
        "**Example Use Case:**  \n",
        "Fraud detection, where both types of errors can have financial impacts.\n",
        "\n",
        "---\n"
      ]
    },
    {
      "cell_type": "code",
      "execution_count": 9,
      "metadata": {
        "colab": {
          "base_uri": "https://localhost:8080/"
        },
        "id": "eM-cUZ2LYVs8",
        "outputId": "19c0637f-f84f-49bd-858c-8799ab8ba38d"
      },
      "outputs": [
        {
          "name": "stdout",
          "output_type": "stream",
          "text": [
            "F1 Score      : 0.6667\n"
          ]
        }
      ],
      "source": [
        "f1 = f1_score(y_test, y_pred)\n",
        "print(f\"F1 Score      : {f1:.4f}\")"
      ]
    },
    {
      "cell_type": "markdown",
      "metadata": {
        "id": "fLxyHECAYflL"
      },
      "source": [
        "\n",
        "## 5. Confusion Matrix\n",
        "\n",
        "**Definition:**  \n",
        "A confusion matrix is a table used to describe the performance of a classification model by showing the true vs. predicted values.\n",
        "\n",
        "|                    | Predicted: No (0) | Predicted: Yes (1) |\n",
        "|--------------------|------------------|---------------------|\n",
        "| Actual: No (0)     | True Negative (TN) | False Positive (FP) |\n",
        "| Actual: Yes (1)    | False Negative (FN) | True Positive (TP)  |\n",
        "\n",
        "**When to Use:**  \n",
        "Use the confusion matrix to understand the types of errors the model is making (false positives vs. false negatives).\n",
        "\n",
        "**Example Use Case:**  \n",
        "Intrusion detection systems where it's important to know if normal behavior is being flagged or attacks are being missed.\n",
        "\n",
        "---\n"
      ]
    },
    {
      "cell_type": "code",
      "execution_count": 15,
      "metadata": {
        "colab": {
          "base_uri": "https://localhost:8080/",
          "height": 476
        },
        "id": "y-xvj55vYf-a",
        "outputId": "ccb7f0aa-1b8c-4756-c3b7-e056a039d1c0"
      },
      "outputs": [
        {
          "name": "stdout",
          "output_type": "stream",
          "text": [
            "\n",
            "Confusion Matrix:\n",
            " [[4 1]\n",
            " [2 3]]\n"
          ]
        },
        {
          "data": {
            "image/png": "[encoded data removed]",
            "text/plain": [
              "<Figure size 600x400 with 1 Axes>"
            ]
          },
          "metadata": {},
          "output_type": "display_data"
        }
      ],
      "source": [
        "import matplotlib.pyplot as plt\n",
        "import seaborn as sns\n",
        "conf_matrix = confusion_matrix(y_test, y_pred)\n",
        "# Plot it\n",
        "plt.figure(figsize=(6, 4))\n",
        "sns.heatmap(conf_matrix, annot=True, fmt='d', cmap='Blues', cbar=False,\n",
        "            xticklabels=['Predicted: 0', 'Predicted: 1'],\n",
        "            yticklabels=['Actual: 0', 'Actual: 1'])\n",
        "plt.xlabel('Predicted')\n",
        "plt.ylabel('Actual')\n",
        "plt.title('Confusion Matrix')\n",
        "plt.tight_layout()\n",
        "plt.show()"
      ]
    },
    {
      "cell_type": "markdown",
      "metadata": {
        "id": "FvVkxeBcYsUp"
      },
      "source": [
        "\n",
        "## 6. Classification Report\n",
        "\n",
        "**Definition:**  \n",
        "A classification report provides a detailed breakdown of precision, recall, F1 score, and support (number of instances) for each class.\n",
        "\n",
        "**When to Use:**  \n",
        "Useful for evaluating multi-class or imbalanced classification problems and comparing model performance across classes.\n",
        "\n",
        "**Example Use Case:**  \n",
        "Digit recognition (0–9) where performance varies by class, and you want to analyze each one individually.\n"
      ]
    },
    {
      "cell_type": "code",
      "execution_count": 14,
      "metadata": {
        "colab": {
          "base_uri": "https://localhost:8080/"
        },
        "id": "jo7lBZ-UYs1X",
        "outputId": "603b48f7-b7a4-44c6-87db-fc982486a835"
      },
      "outputs": [
        {
          "name": "stdout",
          "output_type": "stream",
          "text": [
            "\n",
            "Classification Report:\n",
            "               precision    recall  f1-score   support\n",
            "\n",
            "           0       0.67      0.80      0.73         5\n",
            "           1       0.75      0.60      0.67         5\n",
            "\n",
            "    accuracy                           0.70        10\n",
            "   macro avg       0.71      0.70      0.70        10\n",
            "weighted avg       0.71      0.70      0.70        10\n",
            "\n"
          ]
        }
      ],
      "source": [
        "report = classification_report(y_test, y_pred)\n",
        "print(\"\\nClassification Report:\\n\", report)"
      ]
    }
  ],
  "metadata": {
    "colab": {
      "provenance": []
    },
    "kernelspec": {
      "display_name": "base",
      "language": "python",
      "name": "python3"
    },
    "language_info": {
      "codemirror_mode": {
        "name": "ipython",
        "version": 3
      },
      "file_extension": ".py",
      "mimetype": "text/x-python",
      "name": "python",
      "nbconvert_exporter": "python",
      "pygments_lexer": "ipython3",
      "version": "3.12.7"
    }
  },
  "nbformat": 4,
  "nbformat_minor": 0
}
